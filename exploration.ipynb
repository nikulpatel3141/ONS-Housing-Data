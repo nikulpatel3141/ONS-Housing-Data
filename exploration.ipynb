{
 "cells": [
  {
   "cell_type": "markdown",
   "metadata": {},
   "source": [
    "# Investigating Factors Affecting Housing Rental Yields (Using ONS Data)\n",
    "\n",
    "## Purpose\n",
    "\n",
    "The aim of this notebook is to use various public ONS (`https://www.ons.gov.uk/`) datasets to find the effects of various factors on housing yields. I hope this will give readers (and potential landlords) a better idea of what drives rental yields and so can make better decisions in the future.\n",
    "\n",
    "Here, I look at yields (instead of raw house prices for example) since this is comparable across regions.\n",
    "\n",
    "I found a few datasets (crime, quality of life, property sales, ...) I think will be relevant for our problem, however I expect that we're missing some relevant features (eg unemployment, number of homeowners) however these don't seem to be available on the ONS website.\n",
    "\n",
    "These statistics are reported by local authority so we will have a reasonable number of data points to perform inference on.\n",
    "\n",
    "In this analysis I approximate average yields using `median(rental income)/median(house price)` instead of the actual average yield `median(rental income / house price)` since the latter requires the price and rental income for each house. This is possible to obtain (eg by scraping estate agent websites), but for simplicity I will use the approximation.\n",
    "\n",
    "## Data\n",
    "Below I list links to the ONS datasets I will be using:\n",
    "\n",
    "Crime\n",
    "- https://www.ons.gov.uk/peoplepopulationandcommunity/crimeandjustice/datasets/recordedcrimedatabycommunitysafetypartnershiparea\n",
    "\n",
    "Private Rental Statistics\n",
    "- https://www.ons.gov.uk/peoplepopulationandcommunity/housing/datasets/privaterentalmarketsummarystatisticsinengland\n",
    "\n",
    "Median House Price\n",
    "- https://www.ons.gov.uk/peoplepopulationandcommunity/housing/datasets/medianpricepaidbywardhpssadataset37\n",
    "\n",
    "Mean House Price\n",
    "- https://www.ons.gov.uk/peoplepopulationandcommunity/housing/datasets/meanpricepaidbywardhpssadataset38\n",
    "\n",
    "Property Sales\n",
    "- https://www.ons.gov.uk/peoplepopulationandcommunity/housing/datasets/numberofresidentialpropertysalesbywardhpssadataset36\n",
    "\n",
    "Population Estimates\n",
    "- https://www.ons.gov.uk/peoplepopulationandcommunity/populationandmigration/populationestimates/datasets/wardlevelmidyearpopulationestimatesexperimental\n",
    "\n",
    "Quality of Life Estimates\n",
    "- https://www.ons.gov.uk/datasets/wellbeing-local-authority/editions/time-series/versions/2\n",
    "\n",
    "Note: the ONS has an API (https://developer.ons.gov.uk/) however these not all of these datasets are not available through this at the time of writing. Also, due issues parsing these excel files, I have manually exported the data to csvs which can be straightforwardly parsed."
   ]
  },
  {
   "cell_type": "code",
   "execution_count": 4,
   "metadata": {},
   "outputs": [],
   "source": [
    "%load_ext autoreload\n",
    "%autoreload 2\n",
    "\n",
    "import pandas as pd\n",
    "import numpy as np\n",
    "# from ons_processing"
   ]
  },
  {
   "cell_type": "code",
   "execution_count": null,
   "metadata": {},
   "outputs": [],
   "source": []
  },
  {
   "cell_type": "code",
   "execution_count": null,
   "metadata": {},
   "outputs": [],
   "source": []
  },
  {
   "cell_type": "code",
   "execution_count": null,
   "metadata": {},
   "outputs": [],
   "source": []
  },
  {
   "cell_type": "code",
   "execution_count": null,
   "metadata": {},
   "outputs": [],
   "source": []
  }
 ],
 "metadata": {
  "kernelspec": {
   "display_name": "Python 3 (ipykernel)",
   "language": "python",
   "name": "python3"
  },
  "language_info": {
   "codemirror_mode": {
    "name": "ipython",
    "version": 3
   },
   "file_extension": ".py",
   "mimetype": "text/x-python",
   "name": "python",
   "nbconvert_exporter": "python",
   "pygments_lexer": "ipython3",
   "version": "3.7.12"
  },
  "orig_nbformat": 4
 },
 "nbformat": 4,
 "nbformat_minor": 2
}
