{
 "cells": [
  {
   "cell_type": "markdown",
   "metadata": {},
   "source": [
    "# Investigating Factors Affecting Housing Rental Yields (Using ONS Data)\n",
    "\n",
    "## Purpose\n",
    "\n",
    "The aim of this notebook is to use various public ONS (`https://www.ons.gov.uk/`) datasets to find factors affecting housing yields. I hope this will give readers (and potential investors) a better idea of what drives rental yields, hopefully allowing for better decision making.\n",
    "\n",
    "Note: Here I look at yields instead of raw house prices since yields are comparable across different locations.\n",
    "\n",
    "I approximate average yields using `median(rental income)/median(house price)` since the actual average yield, `median(rental income / house price)`, requires data for each house and is otherwise unavailable.\n",
    "\n",
    "\n",
    "## Data Used\n",
    "\n",
    "Below I list the ONS datasets I will be using. The full urls are given at the end.\n",
    "\n",
    "- Crime\n",
    "- Private Rental Statistics\n",
    "- Median House Price\n",
    "- Mean House Price\n",
    "- Property Sales\n",
    "- Population Estimates\n",
    "- Quality of Life Estimates\n",
    "\n",
    "These are the datasets I found on the ONS website I thought will be relevant and suitable to work with.\n",
    "\n",
    "These give data reported by local authority so we will have a reasonable number of data points (roughly 300) to perform inference on."
   ]
  },
  {
   "cell_type": "code",
   "execution_count": 2,
   "metadata": {},
   "outputs": [],
   "source": [
    "%load_ext autoreload\n",
    "%autoreload 2\n",
    "\n",
    "import pandas as pd\n",
    "import numpy as np\n",
    "# from ons_processing"
   ]
  },
  {
   "cell_type": "code",
   "execution_count": 1,
   "metadata": {},
   "outputs": [
    {
     "name": "stdout",
     "output_type": "stream",
     "text": [
      "Obtaining file:///home/jupyter\n",
      "  Preparing metadata (setup.py) ... \u001b[?25ldone\n",
      "\u001b[?25hInstalling collected packages: ons-housing\n",
      "  Attempting uninstall: ons-housing\n",
      "    Found existing installation: ons-housing 0.0\n",
      "    Can't uninstall 'ons-housing'. No files were found to uninstall.\n",
      "  Running setup.py develop for ons-housing\n",
      "Successfully installed ons-housing-0.0\n",
      "\u001b[33mWARNING: Running pip as the 'root' user can result in broken permissions and conflicting behaviour with the system package manager. It is recommended to use a virtual environment instead: https://pip.pypa.io/warnings/venv\u001b[0m\n"
     ]
    }
   ],
   "source": [
    "!pip install -e ."
   ]
  },
  {
   "cell_type": "code",
   "execution_count": 10,
   "metadata": {},
   "outputs": [],
   "source": [
    "from ons_processing.parse_files import *"
   ]
  },
  {
   "cell_type": "code",
   "execution_count": 46,
   "metadata": {},
   "outputs": [
    {
     "name": "stderr",
     "output_type": "stream",
     "text": [
      "/home/jupyter/ons_processing/parse_files.py:105: DtypeWarning: Columns (0,1,2,3,4) have mixed types.Specify dtype option on import or set low_memory=False.\n",
      "  df = load_df(csv_dir, \"property_sales.csv\")\n"
     ]
    }
   ],
   "source": [
    "ps = parse_property_sales(csv_dir)"
   ]
  },
  {
   "cell_type": "code",
   "execution_count": 1,
   "metadata": {},
   "outputs": [],
   "source": [
    "cr = parse_crime(csv_dir)\n",
    "rs = parse_rental_summary(csv_dir)\n",
    "age = parse_population_age(csv_dir)\n",
    "wb = parse_wellbeing(\"/home/jupyter/ons_processing/data\")"
   ]
  },
  {
   "cell_type": "code",
   "execution_count": null,
   "metadata": {},
   "outputs": [],
   "source": []
  },
  {
   "cell_type": "code",
   "execution_count": null,
   "metadata": {},
   "outputs": [],
   "source": []
  },
  {
   "cell_type": "code",
   "execution_count": null,
   "metadata": {},
   "outputs": [],
   "source": []
  },
  {
   "cell_type": "code",
   "execution_count": null,
   "metadata": {},
   "outputs": [],
   "source": []
  },
  {
   "cell_type": "code",
   "execution_count": 12,
   "metadata": {},
   "outputs": [],
   "source": [
    "csv_dir = \"/home/jupyter/ons_processing/data\""
   ]
  },
  {
   "cell_type": "code",
   "execution_count": null,
   "metadata": {},
   "outputs": [],
   "source": []
  },
  {
   "cell_type": "markdown",
   "metadata": {},
   "source": [
    "## Data Sources\n",
    "\n",
    "Crime\n",
    "- https://www.ons.gov.uk/peoplepopulationandcommunity/crimeandjustice/datasets/recordedcrimedatabycommunitysafetypartnershiparea\n",
    "\n",
    "Private Rental Statistics\n",
    "- https://www.ons.gov.uk/peoplepopulationandcommunity/housing/datasets/privaterentalmarketsummarystatisticsinengland\n",
    "\n",
    "Median House Price\n",
    "- https://www.ons.gov.uk/peoplepopulationandcommunity/housing/datasets/medianpricepaidbywardhpssadataset37\n",
    "\n",
    "Mean House Price\n",
    "- https://www.ons.gov.uk/peoplepopulationandcommunity/housing/datasets/meanpricepaidbywardhpssadataset38\n",
    "\n",
    "Property Sales\n",
    "- https://www.ons.gov.uk/peoplepopulationandcommunity/housing/datasets/numberofresidentialpropertysalesbywardhpssadataset36\n",
    "\n",
    "Population Estimates\n",
    "- https://www.ons.gov.uk/peoplepopulationandcommunity/populationandmigration/populationestimates/datasets/wardlevelmidyearpopulationestimatesexperimental\n",
    "\n",
    "Quality of Life Estimates\n",
    "- https://www.ons.gov.uk/datasets/wellbeing-local-authority/editions/time-series/versions/2\n",
    "\n",
    "Note: the ONS has an API (https://developer.ons.gov.uk/) however these not all of these datasets are not available through this at the time of writing. Also, due issues parsing these excel files, I have manually exported the data to csvs which can be straightforwardly parsed."
   ]
  }
 ],
 "metadata": {
  "kernelspec": {
   "display_name": "Python 3 (ipykernel)",
   "language": "python",
   "name": "python3"
  },
  "language_info": {
   "codemirror_mode": {
    "name": "ipython",
    "version": 3
   },
   "file_extension": ".py",
   "mimetype": "text/x-python",
   "name": "python",
   "nbconvert_exporter": "python",
   "pygments_lexer": "ipython3",
   "version": "3.8.10"
  },
  "orig_nbformat": 4
 },
 "nbformat": 4,
 "nbformat_minor": 2
}
